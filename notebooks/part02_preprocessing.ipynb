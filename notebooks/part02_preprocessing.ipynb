{
 "cells": [
  {
   "cell_type": "markdown",
   "id": "4174a79a",
   "metadata": {},
   "source": [
    "# <div style=\"color:white;display:fill;border-radius:5px;background-color:#0E2031;letter-spacing:0.5px;overflow:hidden\"><p style=\"padding:20px;color:white;overflow:hidden;text-align: center;margin:0;font-size:120%\">Content</p></div>     \n",
    "     \n",
    "**Data Preprocessing**  \n",
    "   - Settings\n",
    "   - Loading Data\n",
    "   - Glossary\n",
    "   - Duplicated Values\n",
    "   - Missing Values\n",
    "   - Fixing Data Types\n",
    "   - Dealing Bad Values\n",
    "   - Feature Engiennier"
   ]
  },
  {
   "cell_type": "markdown",
   "id": "ff3d989d",
   "metadata": {},
   "source": [
    "# <div style=\"color:white;display:fill;border-radius:5px;background-color:#0E2031;letter-spacing:0.5px;overflow:hidden\"><p style=\"padding:20px;color:white;overflow:hidden;text-align: center;margin:0;font-size:120%\">Data Preprocessing</p></div>  "
   ]
  },
  {
   "cell_type": "code",
   "execution_count": 1,
   "id": "62cb18e9",
   "metadata": {},
   "outputs": [],
   "source": [
    "import numpy as np\n",
    "import pandas as pd\n",
    "import datetime as dt\n",
    "from datetime import datetime, date, timedelta\n",
    "from tabulate import tabulate\n",
    "from IPython.display import HTML\n",
    "import seaborn as sns\n",
    "import warnings\n",
    "warnings.simplefilter(action='ignore', category=FutureWarning)"
   ]
  },
  {
   "cell_type": "code",
   "execution_count": 2,
   "id": "9ff08a25",
   "metadata": {},
   "outputs": [],
   "source": [
    "def jupyter_table_settings():\n",
    "    pd.set_option('display.expand_frame_repr', False )\n",
    "    pd.set_option('display.max_columns', 30)\n",
    "    pd.set_option('display.max_rows', 30)"
   ]
  },
  {
   "cell_type": "code",
   "execution_count": 3,
   "id": "45f1b789",
   "metadata": {},
   "outputs": [],
   "source": [
    "def matplotlib_settings():\n",
    "    \"\"\" Optimize general settings, standardize plot sizes, etc. \"\"\"\n",
    "    \n",
    "#     %matplotlib inline\n",
    "#     plt.style.use( 'ggplot' )\n",
    "#     plt.rcParams['figure.figsize'] = [12, 6]\n",
    "#     plt.rcParams['font.size'] = 20"
   ]
  },
  {
   "cell_type": "code",
   "execution_count": 4,
   "id": "8a828ffc",
   "metadata": {},
   "outputs": [],
   "source": [
    "jupyter_table_settings()"
   ]
  },
  {
   "cell_type": "markdown",
   "id": "21420e2f",
   "metadata": {},
   "source": [
    "## <div style=\"color:white;display:fill;border-radius:5px;background-color:#153656;letter-spacing:0.5px;overflow:hidden\"><p style=\"padding:15px;color:white;overflow:hidden;text-align: center;margin:0;font-size:120%\">Loading Data</p></div>"
   ]
  },
  {
   "cell_type": "code",
   "execution_count": 5,
   "id": "7be5bfb9",
   "metadata": {},
   "outputs": [
    {
     "data": {
      "text/plain": [
       "(381109, 12)"
      ]
     },
     "execution_count": 5,
     "metadata": {},
     "output_type": "execute_result"
    }
   ],
   "source": [
    "data_raw = pd.read_csv('../data/train_raw.csv', index_col=0)\n",
    "data_raw.shape"
   ]
  },
  {
   "cell_type": "code",
   "execution_count": 6,
   "id": "21caaba9",
   "metadata": {},
   "outputs": [
    {
     "data": {
      "text/html": [
       "<div>\n",
       "<style scoped>\n",
       "    .dataframe tbody tr th:only-of-type {\n",
       "        vertical-align: middle;\n",
       "    }\n",
       "\n",
       "    .dataframe tbody tr th {\n",
       "        vertical-align: top;\n",
       "    }\n",
       "\n",
       "    .dataframe thead th {\n",
       "        text-align: right;\n",
       "    }\n",
       "</style>\n",
       "<table border=\"1\" class=\"dataframe\">\n",
       "  <thead>\n",
       "    <tr style=\"text-align: right;\">\n",
       "      <th></th>\n",
       "      <th>id</th>\n",
       "      <th>gender</th>\n",
       "      <th>age</th>\n",
       "      <th>region_code</th>\n",
       "      <th>policy_sales_channel</th>\n",
       "      <th>driving_license</th>\n",
       "      <th>vehicle_age</th>\n",
       "      <th>vehicle_damage</th>\n",
       "      <th>previously_insured</th>\n",
       "      <th>annual_premium</th>\n",
       "      <th>vintage</th>\n",
       "      <th>response</th>\n",
       "    </tr>\n",
       "  </thead>\n",
       "  <tbody>\n",
       "    <tr>\n",
       "      <th>381104</th>\n",
       "      <td>381105</td>\n",
       "      <td>Male</td>\n",
       "      <td>74</td>\n",
       "      <td>26.0</td>\n",
       "      <td>26.0</td>\n",
       "      <td>1</td>\n",
       "      <td>1-2 Year</td>\n",
       "      <td>No</td>\n",
       "      <td>1</td>\n",
       "      <td>30170.0</td>\n",
       "      <td>88</td>\n",
       "      <td>0</td>\n",
       "    </tr>\n",
       "    <tr>\n",
       "      <th>381105</th>\n",
       "      <td>381106</td>\n",
       "      <td>Male</td>\n",
       "      <td>30</td>\n",
       "      <td>37.0</td>\n",
       "      <td>152.0</td>\n",
       "      <td>1</td>\n",
       "      <td>&lt; 1 Year</td>\n",
       "      <td>No</td>\n",
       "      <td>1</td>\n",
       "      <td>40016.0</td>\n",
       "      <td>131</td>\n",
       "      <td>0</td>\n",
       "    </tr>\n",
       "    <tr>\n",
       "      <th>381106</th>\n",
       "      <td>381107</td>\n",
       "      <td>Male</td>\n",
       "      <td>21</td>\n",
       "      <td>30.0</td>\n",
       "      <td>160.0</td>\n",
       "      <td>1</td>\n",
       "      <td>&lt; 1 Year</td>\n",
       "      <td>No</td>\n",
       "      <td>1</td>\n",
       "      <td>35118.0</td>\n",
       "      <td>161</td>\n",
       "      <td>0</td>\n",
       "    </tr>\n",
       "    <tr>\n",
       "      <th>381107</th>\n",
       "      <td>381108</td>\n",
       "      <td>Female</td>\n",
       "      <td>68</td>\n",
       "      <td>14.0</td>\n",
       "      <td>124.0</td>\n",
       "      <td>1</td>\n",
       "      <td>&gt; 2 Years</td>\n",
       "      <td>Yes</td>\n",
       "      <td>0</td>\n",
       "      <td>44617.0</td>\n",
       "      <td>74</td>\n",
       "      <td>0</td>\n",
       "    </tr>\n",
       "    <tr>\n",
       "      <th>381108</th>\n",
       "      <td>381109</td>\n",
       "      <td>Male</td>\n",
       "      <td>46</td>\n",
       "      <td>29.0</td>\n",
       "      <td>26.0</td>\n",
       "      <td>1</td>\n",
       "      <td>1-2 Year</td>\n",
       "      <td>No</td>\n",
       "      <td>0</td>\n",
       "      <td>41777.0</td>\n",
       "      <td>237</td>\n",
       "      <td>0</td>\n",
       "    </tr>\n",
       "  </tbody>\n",
       "</table>\n",
       "</div>"
      ],
      "text/plain": [
       "            id  gender  age  region_code  policy_sales_channel  driving_license vehicle_age vehicle_damage  previously_insured  annual_premium  vintage  response\n",
       "381104  381105    Male   74         26.0                  26.0                1    1-2 Year             No                   1         30170.0       88         0\n",
       "381105  381106    Male   30         37.0                 152.0                1    < 1 Year             No                   1         40016.0      131         0\n",
       "381106  381107    Male   21         30.0                 160.0                1    < 1 Year             No                   1         35118.0      161         0\n",
       "381107  381108  Female   68         14.0                 124.0                1   > 2 Years            Yes                   0         44617.0       74         0\n",
       "381108  381109    Male   46         29.0                  26.0                1    1-2 Year             No                   0         41777.0      237         0"
      ]
     },
     "execution_count": 6,
     "metadata": {},
     "output_type": "execute_result"
    }
   ],
   "source": [
    "data_raw.tail()"
   ]
  },
  {
   "cell_type": "code",
   "execution_count": 7,
   "id": "d8b4665d",
   "metadata": {},
   "outputs": [
    {
     "name": "stdout",
     "output_type": "stream",
     "text": [
      "<class 'pandas.core.frame.DataFrame'>\n",
      "Int64Index: 381109 entries, 0 to 381108\n",
      "Data columns (total 12 columns):\n",
      " #   Column                Non-Null Count   Dtype  \n",
      "---  ------                --------------   -----  \n",
      " 0   id                    381109 non-null  int64  \n",
      " 1   gender                381109 non-null  object \n",
      " 2   age                   381109 non-null  int64  \n",
      " 3   region_code           381109 non-null  float64\n",
      " 4   policy_sales_channel  381109 non-null  float64\n",
      " 5   driving_license       381109 non-null  int64  \n",
      " 6   vehicle_age           381109 non-null  object \n",
      " 7   vehicle_damage        381109 non-null  object \n",
      " 8   previously_insured    381109 non-null  int64  \n",
      " 9   annual_premium        381109 non-null  float64\n",
      " 10  vintage               381109 non-null  int64  \n",
      " 11  response              381109 non-null  int64  \n",
      "dtypes: float64(3), int64(6), object(3)\n",
      "memory usage: 37.8+ MB\n"
     ]
    }
   ],
   "source": [
    "data_raw.info()"
   ]
  },
  {
   "cell_type": "code",
   "execution_count": 8,
   "id": "f7de0a94",
   "metadata": {},
   "outputs": [],
   "source": [
    "data = data_raw.copy()"
   ]
  },
  {
   "cell_type": "code",
   "execution_count": 9,
   "id": "b4badcb3",
   "metadata": {},
   "outputs": [
    {
     "name": "stdout",
     "output_type": "stream",
     "text": [
      "=====================  ===================================================================================================\n",
      "Column                 Meaning\n",
      "=====================  ===================================================================================================\n",
      "id                     unique customer identifier.\n",
      "gender                 client gender: Male / Female.\n",
      "age                    customer age.\n",
      "region_code            customer region code.\n",
      "policy_sales_channel   Anonymized Code for the channel of outreaching to the customer: Over Mail, Over Phone, In Person...\n",
      "driving_license        0 = customer does not have DL, 1 = already have DL\n",
      "vehicle_age            vehicle age: < 1 Year, 1-2 Year, > 2 Years\n",
      "vehicle_damage         No = customer has never had their vehicle damaged in the past, Yes = has had it.\n",
      "vehicle_prev_insured   0 = customer does not have vehicle insurance, 1= already has vehicle insurance.\n",
      "health_annual_premium  annual amount paid by the customer to the company for health insurance. Currency:\n",
      "vintage                Number of Days, Customer has been associated with the company.\n",
      "response               0 = customer is not interested, 1 = customer is interested.\n",
      "=====================  ===================================================================================================\n"
     ]
    }
   ],
   "source": [
    "tab_meanings = [['Column', 'Meaning'],\n",
    "                \n",
    "        ['id', 'unique customer identifier.'],\n",
    "        ['gender', 'client gender: Male / Female.'],\n",
    "        ['age', 'customer age.'],\n",
    "        ['region_code', 'customer region code.'],\n",
    "        ['policy_sales_channel', 'Anonymized Code for the channel of outreaching to the customer: Over Mail, Over Phone, In Person...'],\n",
    "        ['driving_license', '0 = customer does not have DL, 1 = already have DL'],\n",
    "        ['vehicle_age', 'vehicle age: < 1 Year, 1-2 Year, > 2 Years'],\n",
    "        ['vehicle_damage', 'No = customer has never had their vehicle damaged in the past, Yes = has had it.'],\n",
    "        ['vehicle_prev_insured', '0 = customer does not have vehicle insurance, 1= already has vehicle insurance.'],\n",
    "        ['health_annual_premium', 'annual amount paid by the customer to the company for health insurance. Currency:'],\n",
    "        ['vintage', 'Number of Days, Customer has been associated with the company.'],\n",
    "        ['response', '0 = customer is not interested, 1 = customer is interested.']\n",
    "      ]\n",
    "print(tabulate(tab_meanings, headers='firstrow', stralign='left', tablefmt='rst'))\n",
    "\n",
    "#Rs(Pakistani rupee, R$1.00 = ± Rs0.03)."
   ]
  },
  {
   "cell_type": "markdown",
   "id": "cee033da",
   "metadata": {},
   "source": [
    "## <div style=\"color:white;display:fill;border-radius:5px;background-color:#153656;letter-spacing:0.5px;overflow:hidden\"><p style=\"padding:15px;color:white;overflow:hidden;text-align: center;margin:0;font-size:120%\">Duplicated Values</p></div>"
   ]
  },
  {
   "cell_type": "code",
   "execution_count": 10,
   "id": "3bab6a21",
   "metadata": {},
   "outputs": [
    {
     "data": {
      "text/plain": [
       "0"
      ]
     },
     "execution_count": 10,
     "metadata": {},
     "output_type": "execute_result"
    }
   ],
   "source": [
    "#Cheking Duplicated Rows\n",
    "data.duplicated().sum()"
   ]
  },
  {
   "cell_type": "markdown",
   "id": "0cbe3823",
   "metadata": {},
   "source": [
    "## <div style=\"color:white;display:fill;border-radius:5px;background-color:#153656;letter-spacing:0.5px;overflow:hidden\"><p style=\"padding:15px;color:white;overflow:hidden;text-align: center;margin:0;font-size:120%\">Missing Values</p></div>"
   ]
  },
  {
   "cell_type": "code",
   "execution_count": 11,
   "id": "71650705",
   "metadata": {},
   "outputs": [
    {
     "data": {
      "text/plain": [
       "id                      0\n",
       "gender                  0\n",
       "age                     0\n",
       "region_code             0\n",
       "policy_sales_channel    0\n",
       "driving_license         0\n",
       "vehicle_age             0\n",
       "vehicle_damage          0\n",
       "previously_insured      0\n",
       "annual_premium          0\n",
       "vintage                 0\n",
       "response                0\n",
       "dtype: int64"
      ]
     },
     "execution_count": 11,
     "metadata": {},
     "output_type": "execute_result"
    }
   ],
   "source": [
    "data.isna().sum()"
   ]
  },
  {
   "cell_type": "markdown",
   "id": "20cb4589",
   "metadata": {},
   "source": [
    "## <div style=\"color:white;display:fill;border-radius:5px;background-color:#153656;letter-spacing:0.5px;overflow:hidden\"><p style=\"padding:15px;color:white;overflow:hidden;text-align: center;margin:0;font-size:120%\">Fixing Data Types</p></div>"
   ]
  },
  {
   "cell_type": "code",
   "execution_count": null,
   "id": "de4afc5b",
   "metadata": {},
   "outputs": [],
   "source": []
  }
 ],
 "metadata": {
  "hide_input": false,
  "kernelspec": {
   "display_name": "Python 3 (ipykernel)",
   "language": "python",
   "name": "python3"
  },
  "language_info": {
   "codemirror_mode": {
    "name": "ipython",
    "version": 3
   },
   "file_extension": ".py",
   "mimetype": "text/x-python",
   "name": "python",
   "nbconvert_exporter": "python",
   "pygments_lexer": "ipython3",
   "version": "3.9.13"
  }
 },
 "nbformat": 4,
 "nbformat_minor": 5
}
